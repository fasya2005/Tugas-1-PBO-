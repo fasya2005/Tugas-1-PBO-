{
  "nbformat": 4,
  "nbformat_minor": 0,
  "metadata": {
    "colab": {
      "provenance": [],
      "authorship_tag": "ABX9TyPWFJOjpefT/eaVMB8cLMxE",
      "include_colab_link": true
    },
    "kernelspec": {
      "name": "python3",
      "display_name": "Python 3"
    },
    "language_info": {
      "name": "python"
    }
  },
  "cells": [
    {
      "cell_type": "markdown",
      "metadata": {
        "id": "view-in-github",
        "colab_type": "text"
      },
      "source": [
        "<a href=\"https://colab.research.google.com/github/fasya2005/Tugas-1-PBO-/blob/main/sesi_6_py.ipynb\" target=\"_parent\"><img src=\"https://colab.research.google.com/assets/colab-badge.svg\" alt=\"Open In Colab\"/></a>"
      ]
    },
    {
      "cell_type": "code",
      "metadata": {
        "id": "F6_EVThE20TC",
        "colab": {
          "base_uri": "https://localhost:8080/"
        },
        "outputId": "4844ef25-5882-46ad-ab67-4525e14db342"
      },
      "source": [
        "# Deklarasi variabel stup1, stup2 dan stup3\n",
        "stup1 = ('bahasa arab', 'bahasa aceh', 2019, 2020)\n",
        "stup2 = (1, 2, 3, 4, 5, 6, 7, 8)\n",
        "stup3 = \"e\", \"f\", \"g\", \"h\"\n",
        "print (\"stup1[1]: \", stup1[1])\n",
        "print (\"stup2[1:5]: \", stup2[1:5])"
      ],
      "execution_count": 6,
      "outputs": [
        {
          "output_type": "stream",
          "name": "stdout",
          "text": [
            "stup1[1]:  bahasa aceh\n",
            "stup2[1:5]:  (2, 3, 4, 5)\n"
          ]
        }
      ]
    },
    {
      "cell_type": "markdown",
      "source": [],
      "metadata": {
        "id": "IKLY10U5i4ZA"
      }
    },
    {
      "cell_type": "code",
      "metadata": {
        "id": "H35GakMK5MO8",
        "colab": {
          "base_uri": "https://localhost:8080/"
        },
        "outputId": "b5fd4be1-8b54-4e00-b457-e42f4010826d"
      },
      "source": [
        "# Deklarasi Variabel ach\n",
        "ach = (\"Mie Aceh\", 10000, 3.5, True, 'AyamPramugari', 88j)\n",
        "\n",
        "print(\"ach[0]:\", ach[0])\n",
        "print(\"ach[1]:\", ach[1])\n",
        "print(\"ach[2]:\", ach[2])\n",
        "print(\"ach[2:5]:\", ach[2:5])\n",
        "print(\"ach[:3]:\", ach[:3])\n",
        "print(\"ach[3:]:\", ach[3:])\n",
        "print(\"ach[:]:\", ach[:])"
      ],
      "execution_count": 5,
      "outputs": [
        {
          "output_type": "stream",
          "name": "stdout",
          "text": [
            "ach[0]: Mie Aceh\n",
            "ach[1]: 10000\n",
            "ach[2]: 3.5\n",
            "ach[2:5]: (3.5, True, 'AyamPramugari')\n",
            "ach[:3]: ('Mie Aceh', 10000, 3.5)\n",
            "ach[3:]: (True, 'AyamPramugari', 88j)\n",
            "ach[:]: ('Mie Aceh', 10000, 3.5, True, 'AyamPramugari', 88j)\n"
          ]
        }
      ]
    },
    {
      "cell_type": "markdown",
      "source": [],
      "metadata": {
        "id": "gLDIa6kii7Zo"
      }
    },
    {
      "cell_type": "code",
      "metadata": {
        "id": "Yq0upGZW4lJ0",
        "colab": {
          "base_uri": "https://localhost:8080/"
        },
        "outputId": "293e97ad-cdc0-413f-edb8-97886bdcf987"
      },
      "source": [
        "stup1 = (10, 5.78)\n",
        "stup2 = ('def', 'opq')\n",
        "stup3 = stup1 + stup2\n",
        "print(\"Tuple setelah digabung:\", stup3)\n",
        "del stup3\n",
        "print(\"stup3 telah dihapus.\")\n"
      ],
      "execution_count": 4,
      "outputs": [
        {
          "output_type": "stream",
          "name": "stdout",
          "text": [
            "Tuple setelah digabung: (10, 5.78, 'def', 'opq')\n",
            "stup3 telah dihapus.\n"
          ]
        }
      ]
    }
  ]
}